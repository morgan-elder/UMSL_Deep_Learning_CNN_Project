{
  "cells": [
    {
      "cell_type": "code",
      "execution_count": null,
      "metadata": {
        "id": "pphWYaT6UuJ_"
      },
      "outputs": [],
      "source": [
        "print('Hello')"
      ]
    },
    {
      "cell_type": "code",
      "source": [
        "# URLs of compressed image data \n",
        "!echo -e \\\n",
        "  \"https://github.com/morgan-elder/UMSL_Deep_Learning_CNN_Project/blob/master/images/images_1_100.tgz\\n\" \\\n",
        "  \"https://github.com/morgan-elder/UMSL_Deep_Learning_CNN_Project/blob/master/images/images_101_200.tgz\\n\" \\\n",
        "  \"https://github.com/morgan-elder/UMSL_Deep_Learning_CNN_Project/blob/master/images/images_201_300.tgz\\n\" \\\n",
        "  \"https://github.com/morgan-elder/UMSL_Deep_Learning_CNN_Project/blob/master/images/images_301_400.tgz\\n\" \\\n",
        "  \"https://github.com/morgan-elder/UMSL_Deep_Learning_CNN_Project/blob/master/images/images_401_500.tgz\\n\" \\\n",
        "  \"https://github.com/morgan-elder/UMSL_Deep_Learning_CNN_Project/blob/master/images/images_501_600.tgz\\n\" \\\n",
        "  \"https://github.com/morgan-elder/UMSL_Deep_Learning_CNN_Project/blob/master/images/images_601_700.tgz\\n\" \\\n",
        "  \"https://github.com/morgan-elder/UMSL_Deep_Learning_CNN_Project/blob/master/images/images_701_800.tgz\\n\" \\\n",
        "  \"https://github.com/morgan-elder/UMSL_Deep_Learning_CNN_Project/blob/master/images/images_801_900.tgz\\n\" \\\n",
        "  \"https://github.com/morgan-elder/UMSL_Deep_Learning_CNN_Project/blob/master/images/images_901_1000.tgz\\n\" \\\n",
        "  \"https://github.com/morgan-elder/UMSL_Deep_Learning_CNN_Project/blob/master/images/images_1001_1100.tgz\\n\" \\\n",
        "  \"https://github.com/morgan-elder/UMSL_Deep_Learning_CNN_Project/blob/master/images/images_1101_1200.tgz\\n\" \\\n",
        "  > image_tar_urls.txt"
      ],
      "metadata": {
        "id": "EWtPohANU15P"
      },
      "execution_count": 49,
      "outputs": []
    },
    {
      "cell_type": "code",
      "source": [
        "!wget -i image_tar_urls.txt -P ./images/"
      ],
      "metadata": {
        "id": "zsr733mDX2kv",
        "colab": {
          "base_uri": "https://localhost:8080/"
        },
        "outputId": "3789f4fb-f92d-4074-873e-b9d427105fed"
      },
      "execution_count": 51,
      "outputs": [
        {
          "output_type": "stream",
          "name": "stdout",
          "text": [
            "--2022-03-07 14:32:55--  https://github.com/morgan-elder/UMSL_Deep_Learning_CNN_Project/blob/master/images/images_1_100.tgz\n",
            "Resolving github.com (github.com)... 140.82.112.4\n",
            "Connecting to github.com (github.com)|140.82.112.4|:443... connected.\n",
            "HTTP request sent, awaiting response... 200 OK\n",
            "Length: unspecified [text/html]\n",
            "Saving to: ‘./images/images_1_100.tgz’\n",
            "\n",
            "images_1_100.tgz        [ <=>                ] 177.03K   963KB/s    in 0.2s    \n",
            "\n",
            "2022-03-07 14:32:56 (963 KB/s) - ‘./images/images_1_100.tgz’ saved [181274]\n",
            "\n",
            "--2022-03-07 14:32:56--  https://github.com/morgan-elder/UMSL_Deep_Learning_CNN_Project/blob/master/images/images_101_200.tgz\n",
            "Reusing existing connection to github.com:443.\n",
            "HTTP request sent, awaiting response... 200 OK\n",
            "Length: unspecified [text/html]\n",
            "Saving to: ‘./images/images_101_200.tgz’\n",
            "\n",
            "images_101_200.tgz      [ <=>                ] 177.26K  --.-KB/s    in 0.06s   \n",
            "\n",
            "2022-03-07 14:32:56 (2.80 MB/s) - ‘./images/images_101_200.tgz’ saved [181516]\n",
            "\n",
            "--2022-03-07 14:32:56--  https://github.com/morgan-elder/UMSL_Deep_Learning_CNN_Project/blob/master/images/images_201_300.tgz\n",
            "Reusing existing connection to github.com:443.\n",
            "HTTP request sent, awaiting response... 200 OK\n",
            "Length: unspecified [text/html]\n",
            "Saving to: ‘./images/images_201_300.tgz’\n",
            "\n",
            "images_201_300.tgz      [ <=>                ] 177.26K  --.-KB/s    in 0.002s  \n",
            "\n",
            "2022-03-07 14:32:56 (77.9 MB/s) - ‘./images/images_201_300.tgz’ saved [181516]\n",
            "\n",
            "--2022-03-07 14:32:56--  https://github.com/morgan-elder/UMSL_Deep_Learning_CNN_Project/blob/master/images/images_301_400.tgz\n",
            "Reusing existing connection to github.com:443.\n",
            "HTTP request sent, awaiting response... 200 OK\n",
            "Length: unspecified [text/html]\n",
            "Saving to: ‘./images/images_301_400.tgz’\n",
            "\n",
            "images_301_400.tgz      [ <=>                ] 177.26K  --.-KB/s    in 0.003s  \n",
            "\n",
            "2022-03-07 14:32:57 (57.5 MB/s) - ‘./images/images_301_400.tgz’ saved [181516]\n",
            "\n",
            "--2022-03-07 14:32:57--  https://github.com/morgan-elder/UMSL_Deep_Learning_CNN_Project/blob/master/images/images_401_500.tgz\n",
            "Reusing existing connection to github.com:443.\n",
            "HTTP request sent, awaiting response... 200 OK\n",
            "Length: unspecified [text/html]\n",
            "Saving to: ‘./images/images_401_500.tgz’\n",
            "\n",
            "images_401_500.tgz      [ <=>                ] 177.26K  --.-KB/s    in 0.002s  \n",
            "\n",
            "2022-03-07 14:32:57 (89.7 MB/s) - ‘./images/images_401_500.tgz’ saved [181516]\n",
            "\n",
            "--2022-03-07 14:32:57--  https://github.com/morgan-elder/UMSL_Deep_Learning_CNN_Project/blob/master/images/images_501_600.tgz\n",
            "Reusing existing connection to github.com:443.\n",
            "HTTP request sent, awaiting response... 200 OK\n",
            "Length: unspecified [text/html]\n",
            "Saving to: ‘./images/images_501_600.tgz’\n",
            "\n",
            "images_501_600.tgz      [ <=>                ] 177.26K  --.-KB/s    in 0.002s  \n",
            "\n",
            "2022-03-07 14:32:57 (96.3 MB/s) - ‘./images/images_501_600.tgz’ saved [181516]\n",
            "\n",
            "--2022-03-07 14:32:57--  https://github.com/morgan-elder/UMSL_Deep_Learning_CNN_Project/blob/master/images/images_601_700.tgz\n",
            "Reusing existing connection to github.com:443.\n",
            "HTTP request sent, awaiting response... 200 OK\n",
            "Length: unspecified [text/html]\n",
            "Saving to: ‘./images/images_601_700.tgz’\n",
            "\n",
            "images_601_700.tgz      [ <=>                ] 177.26K  --.-KB/s    in 0.003s  \n",
            "\n",
            "2022-03-07 14:32:57 (67.3 MB/s) - ‘./images/images_601_700.tgz’ saved [181516]\n",
            "\n",
            "--2022-03-07 14:32:57--  https://github.com/morgan-elder/UMSL_Deep_Learning_CNN_Project/blob/master/images/images_701_800.tgz\n",
            "Reusing existing connection to github.com:443.\n",
            "HTTP request sent, awaiting response... 200 OK\n",
            "Length: unspecified [text/html]\n",
            "Saving to: ‘./images/images_701_800.tgz’\n",
            "\n",
            "images_701_800.tgz      [ <=>                ] 177.26K  --.-KB/s    in 0.003s  \n",
            "\n",
            "2022-03-07 14:32:58 (67.2 MB/s) - ‘./images/images_701_800.tgz’ saved [181516]\n",
            "\n",
            "--2022-03-07 14:32:58--  https://github.com/morgan-elder/UMSL_Deep_Learning_CNN_Project/blob/master/images/images_801_900.tgz\n",
            "Reusing existing connection to github.com:443.\n",
            "HTTP request sent, awaiting response... 200 OK\n",
            "Length: unspecified [text/html]\n",
            "Saving to: ‘./images/images_801_900.tgz’\n",
            "\n",
            "images_801_900.tgz      [ <=>                ] 177.26K  --.-KB/s    in 0.003s  \n",
            "\n",
            "2022-03-07 14:32:58 (57.6 MB/s) - ‘./images/images_801_900.tgz’ saved [181516]\n",
            "\n",
            "--2022-03-07 14:32:58--  https://github.com/morgan-elder/UMSL_Deep_Learning_CNN_Project/blob/master/images/images_901_1000.tgz\n",
            "Reusing existing connection to github.com:443.\n",
            "HTTP request sent, awaiting response... 200 OK\n",
            "Length: unspecified [text/html]\n",
            "Saving to: ‘./images/images_901_1000.tgz’\n",
            "\n",
            "images_901_1000.tgz     [ <=>                ] 177.38K  --.-KB/s    in 0.002s  \n",
            "\n",
            "2022-03-07 14:32:58 (70.8 MB/s) - ‘./images/images_901_1000.tgz’ saved [181637]\n",
            "\n",
            "--2022-03-07 14:32:58--  https://github.com/morgan-elder/UMSL_Deep_Learning_CNN_Project/blob/master/images/images_1001_1100.tgz\n",
            "Reusing existing connection to github.com:443.\n",
            "HTTP request sent, awaiting response... 200 OK\n",
            "Length: unspecified [text/html]\n",
            "Saving to: ‘./images/images_1001_1100.tgz’\n",
            "\n",
            "images_1001_1100.tg     [ <=>                ] 177.50K  --.-KB/s    in 0.003s  \n",
            "\n",
            "2022-03-07 14:32:58 (57.6 MB/s) - ‘./images/images_1001_1100.tgz’ saved [181756]\n",
            "\n",
            "--2022-03-07 14:32:58--  https://github.com/morgan-elder/UMSL_Deep_Learning_CNN_Project/blob/master/images/images_1101_1200.tgz\n",
            "Reusing existing connection to github.com:443.\n",
            "HTTP request sent, awaiting response... 200 OK\n",
            "Length: unspecified [text/html]\n",
            "Saving to: ‘./images/images_1101_1200.tgz’\n",
            "\n",
            "images_1101_1200.tg     [ <=>                ] 177.50K  --.-KB/s    in 0.002s  \n",
            "\n",
            "2022-03-07 14:32:59 (69.8 MB/s) - ‘./images/images_1101_1200.tgz’ saved [181758]\n",
            "\n",
            "FINISHED --2022-03-07 14:32:59--\n",
            "Total wall clock time: 3.5s\n",
            "Downloaded: 12 files, 2.1M in 0.3s (7.67 MB/s)\n"
          ]
        }
      ]
    },
    {
      "cell_type": "code",
      "source": [
        "!tar -xf ./images/images_1_100.tar"
      ],
      "metadata": {
        "id": "OYYSip4LaTx_",
        "outputId": "fa3b314f-cd19-47c7-8353-2c83c1dae657",
        "colab": {
          "base_uri": "https://localhost:8080/"
        }
      },
      "execution_count": 54,
      "outputs": [
        {
          "output_type": "stream",
          "name": "stdout",
          "text": [
            "tar: This does not look like a tar archive\n",
            "tar: Skipping to next header\n",
            "tar: Exiting with failure status due to previous errors\n"
          ]
        }
      ]
    },
    {
      "cell_type": "code",
      "source": [
        "!rm ./images/*.tar.gz"
      ],
      "metadata": {
        "id": "QWBSnuFXeyDy"
      },
      "execution_count": 50,
      "outputs": []
    }
  ],
  "metadata": {
    "language_info": {
      "name": "python"
    },
    "orig_nbformat": 4,
    "colab": {
      "name": "phase1.ipynb",
      "provenance": []
    },
    "kernelspec": {
      "name": "python3",
      "display_name": "Python 3"
    }
  },
  "nbformat": 4,
  "nbformat_minor": 0
}