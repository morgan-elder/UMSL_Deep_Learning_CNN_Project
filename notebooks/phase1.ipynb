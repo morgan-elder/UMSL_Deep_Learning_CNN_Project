{
  "cells": [
    {
      "cell_type": "code",
      "execution_count": null,
      "metadata": {
        "id": "pphWYaT6UuJ_"
      },
      "outputs": [],
      "source": [
        "print('Hello')"
      ]
    },
    {
      "cell_type": "code",
      "source": [
        "# URLs of compressed image data \n",
        "!echo \"https://github.com/morgan-elder/UMSL_Deep_Learning_CNN_Project/blob/master/images/images_1_100.tar.gz\" >> hi.txt\n",
        "!echo \"\">> hi.txt\n",
        "!echo \"\">> hi.txt\n",
        "!echo \"\">> hi.txt\n",
        "!echo \"\">> hi.txt\n",
        "!echo \"\">> hi.txt\n",
        "!echo \"\">> hi.txt\n",
        "!echo \"\">> hi.txt\n",
        "!echo \"\">> hi.txt\n",
        "!echo \"\">> hi.txt\n",
        "!echo \"\">> hi.txt\n"
      ],
      "metadata": {
        "id": "EWtPohANU15P"
      },
      "execution_count": 23,
      "outputs": []
    },
    {
      "cell_type": "code",
      "source": [
        "!wget -r --no-parent -A --no-clobber '*.tar.gz' https://github.com/morgan-elder/UMSL_Deep_Learning_CNN_Project/blob/master/images/"
      ],
      "metadata": {
        "id": "zsr733mDX2kv"
      },
      "execution_count": null,
      "outputs": []
    },
    {
      "cell_type": "code",
      "source": [
        "!cat hi.txt"
      ],
      "metadata": {
        "id": "OYYSip4LaTx_",
        "outputId": "e04668f6-a6af-4268-98d2-ac2fc69c0f1a",
        "colab": {
          "base_uri": "https://localhost:8080/"
        }
      },
      "execution_count": 24,
      "outputs": [
        {
          "output_type": "stream",
          "name": "stdout",
          "text": [
            "hi\n"
          ]
        }
      ]
    },
    {
      "cell_type": "code",
      "source": [
        ""
      ],
      "metadata": {
        "id": "QWBSnuFXeyDy"
      },
      "execution_count": null,
      "outputs": []
    }
  ],
  "metadata": {
    "language_info": {
      "name": "python"
    },
    "orig_nbformat": 4,
    "colab": {
      "name": "phase1.ipynb",
      "provenance": []
    },
    "kernelspec": {
      "name": "python3",
      "display_name": "Python 3"
    }
  },
  "nbformat": 4,
  "nbformat_minor": 0
}